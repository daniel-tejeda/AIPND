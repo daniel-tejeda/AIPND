{
 "cells": [
  {
   "cell_type": "markdown",
   "metadata": {},
   "source": [
    "# Mean Normalization\n",
    "\n",
    "In machine learning we use large amounts of data to train our models. Some machine learning algorithms may require that the data is *normalized* in order to work correctly. The idea of normalization, also known as *feature scaling*, is to ensure that all the data is on a similar scale, *i.e.* that all the data takes on a similar range of values. For example, we might have a dataset that has values between 0 and 5,000. By normalizing the data we can make the range of values be between 0 and 1.\n",
    "\n",
    "In this lab, you will be performing a different kind of feature scaling known as *mean normalization*. Mean normalization will scale the data, but instead of making the values be between 0 and 1, it will distribute the values evenly in some small interval around zero. For example, if we have a dataset that has values between 0 and 5,000, after mean normalization the range of values will be distributed in some small range around 0, for example between -3 to 3. Because the range of values are distributed evenly around zero, this guarantees that the average (mean) of all elements will be zero. Therefore, when you perform *mean normalization* your data will not only be scaled but it will also have an average of zero. \n",
    "\n",
    "# To Do:\n",
    "\n",
    "You will start by importing NumPy and creating a rank 2 ndarray of random integers between 0 and 5,000 (inclusive) with 1000 rows and 20 columns. This array will simulate a dataset with a wide range of values. Fill in the code below"
   ]
  },
  {
   "cell_type": "code",
   "execution_count": 51,
   "metadata": {},
   "outputs": [
    {
     "name": "stdout",
     "output_type": "stream",
     "text": [
      "(1000, 20)\n",
      "[[4944 1753  618 ..., 2236 4023 2851]\n",
      " [3186 4398  145 ...,  402 3263 3328]\n",
      " [3238 4134  280 ..., 4112 1092 4867]\n",
      " ..., \n",
      " [3376 3492 4558 ..., 4259 4818  432]\n",
      " [ 429  340 1671 ..., 2637 1478 4139]\n",
      " [1723 1142 3604 ..., 4166 3183 3238]]\n"
     ]
    }
   ],
   "source": [
    "# import NumPy into Python\n",
    "import numpy as np\n",
    "\n",
    "# Create a 1000 x 20 ndarray with random integers in the half-open interval [0, 5001).\n",
    "X = np.random.randint(low=0, high=5001, size=(1000,20))\n",
    "\n",
    "# print the shape of X\n",
    "print(X.shape)\n",
    "print(X)"
   ]
  },
  {
   "cell_type": "markdown",
   "metadata": {},
   "source": [
    "Now that you created the array we will mean normalize it. We will perform mean normalization using the following equation:\n",
    "\n",
    "$\\mbox{Norm_Col}_i = \\frac{\\mbox{Col}_i - \\mu_i}{\\sigma_i}$\n",
    "\n",
    "where $\\mbox{Col}_i$ is the $i$th column of $X$, $\\mu_i$ is average of the values in the $i$th column of $X$, and $\\sigma_i$ is the standard deviation of the values in the $i$th column of $X$. In other words, mean normalization is performed by subtracting from each column of $X$ the average of its values, and then by dividing by the standard deviation of its values. In the space below, you will first calculate the average and standard deviation of each column of $X$. "
   ]
  },
  {
   "cell_type": "code",
   "execution_count": 63,
   "metadata": {},
   "outputs": [
    {
     "name": "stdout",
     "output_type": "stream",
     "text": [
      "[ 2472.069  2522.805  2482.297  2499.834  2416.431  2490.864  2405.188\n",
      "  2438.992  2456.794  2525.369  2587.749  2576.408  2456.757  2549.584\n",
      "  2468.243  2535.525  2481.783  2433.406  2521.8    2567.891]\n",
      "\n",
      "[ 1456.48166904  1472.59227112  1434.15642898  1452.81393112  1431.15902933\n",
      "  1444.34398725  1463.30889721  1409.74889606  1449.82718403  1457.55536253\n",
      "  1425.35135668  1441.96568043  1455.35895227  1453.47923031  1454.29284395\n",
      "  1465.11987748  1453.48184093  1460.27087253  1429.0945777   1415.17730377]\n",
      "\n"
     ]
    }
   ],
   "source": [
    "# Average of the values in each column of X\n",
    "ave_cols = X.mean(axis=0)\n",
    "print(ave_cols)\n",
    "print()\n",
    "# Standard Deviation of the values in each column of X\n",
    "std_cols = X.std(axis=0)\n",
    "print(std_cols)\n",
    "print()"
   ]
  },
  {
   "cell_type": "markdown",
   "metadata": {},
   "source": [
    "If you have done the above calculations correctly, then `ave_cols` and `std_cols`, should both be vectors with shape `(20,)` since $X$ has 20 columns. You can verify this by filling the code below:"
   ]
  },
  {
   "cell_type": "code",
   "execution_count": 62,
   "metadata": {},
   "outputs": [
    {
     "name": "stdout",
     "output_type": "stream",
     "text": [
      "(20,)\n",
      "(20,)\n"
     ]
    }
   ],
   "source": [
    "# Print the shape of ave_cols\n",
    "print(ave_cols.shape)\n",
    "\n",
    "# Print the shape of std_cols\n",
    "print(std_cols.shape)"
   ]
  },
  {
   "cell_type": "markdown",
   "metadata": {},
   "source": [
    "You can now take advantage of Broadcasting to calculate the mean normalized version of $X$ in just one line of code using the equation above. Fill in the code below"
   ]
  },
  {
   "cell_type": "code",
   "execution_count": 61,
   "metadata": {},
   "outputs": [],
   "source": [
    "# Mean normalize X\n",
    "X_norm = (X - ave_cols) / std_cols\n"
   ]
  },
  {
   "cell_type": "markdown",
   "metadata": {},
   "source": [
    "If you have performed the mean normalization correctly, then the average of all the elements in $X_{\\tiny{\\mbox{norm}}}$ should be close to zero, and they should be evenly distributed in some small interval around zero. You can verify this by filing the code below:"
   ]
  },
  {
   "cell_type": "code",
   "execution_count": 60,
   "metadata": {},
   "outputs": [
    {
     "name": "stdout",
     "output_type": "stream",
     "text": [
      "8.70414851306e-18\n",
      "-1.72118399075\n",
      "1.72970081755\n"
     ]
    }
   ],
   "source": [
    "# Print the average of all the values of X_norm\n",
    "print(np.mean(X_norm))\n",
    "\n",
    "# Print the average of the minimum value in each column of X_norm\n",
    "print(np.mean(X_norm.min(axis=0)))\n",
    "\n",
    "# Print the average of the maximum value in each column of X_norm\n",
    "print(np.mean(X_norm.max(axis=0)))"
   ]
  },
  {
   "cell_type": "markdown",
   "metadata": {},
   "source": [
    "You should note that since $X$ was created using random integers, the above values will vary. \n",
    "\n",
    "# Data Separation\n",
    "\n",
    "After the data has been mean normalized, it is customary in machine learnig to split our dataset into three sets:\n",
    "\n",
    "1. A Training Set\n",
    "2. A Cross Validation Set\n",
    "3. A Test Set\n",
    "\n",
    "The dataset is usually divided such that the Training Set contains 60% of the data, the Cross Validation Set contains 20% of the data, and the Test Set contains 20% of the data. \n",
    "\n",
    "In this part of the lab you will separate `X_norm` into a Training Set, Cross Validation Set, and a Test Set. Each data set will contain rows of `X_norm` chosen at random, making sure that we don't pick the same row twice. This will guarantee that all the rows of `X_norm` are chosen and randomly distributed among the three new sets.\n",
    "\n",
    "You will start by creating a rank 1 ndarray that contains a random permutation of the row indices of `X_norm`. You can do this by using the `np.random.permutation()` function. The `np.random.permutation(N)` function creates a random permutation of integers from 0 to `N - 1`. Let's see an example:"
   ]
  },
  {
   "cell_type": "code",
   "execution_count": 74,
   "metadata": {},
   "outputs": [
    {
     "name": "stdout",
     "output_type": "stream",
     "text": [
      "[4 2 3 0 1]\n"
     ]
    }
   ],
   "source": [
    "# We create a random permutation of integers 0 to 4\n",
    "rp = np.random.permutation(5)\n",
    "print(rp)"
   ]
  },
  {
   "cell_type": "markdown",
   "metadata": {},
   "source": [
    "# To Do\n",
    "\n",
    "In the space below create a rank 1 ndarray that contains a random permutation of the row indices of `X_norm`. You can do this in one line of code by extracting the number of rows of `X_norm` using the `shape` attribute and then passing it to the  `np.random.permutation()` function. Remember the `shape` attribute returns a tuple with two numbers in the form `(rows,columns)`."
   ]
  },
  {
   "cell_type": "code",
   "execution_count": 103,
   "metadata": {},
   "outputs": [
    {
     "name": "stdout",
     "output_type": "stream",
     "text": [
      "[684  33 157 502 382 292  35 433 154 261 407 811 918  77 692 585 874 741\n",
      " 293 849 362 895 329  88 201 228 955 680 620 904 345 756 279 570 573 868\n",
      " 343 794 784 748 711 369 717 762 553  27 136 420 785 744 507 455 181 168\n",
      " 995 871 771 212 385 639 477 998 226 497 879 450 281 219 116 218 251 397\n",
      " 493 235 875 263 319 984 810 134  48 850 954 952 350 110 780 728 197  87\n",
      " 373 152 769 575 448 823 155 241 430 338 958 198 567 253 546 909 950 262\n",
      " 366 740 803 112 777  31 469 214 192 380 865 797 120 361 996 180 594 411\n",
      " 244 968 819  95 173 178 340 872 974 825 165 347 237 791  21 171 336 621\n",
      " 452 466 601 817 376  99 326 725 921 927 315  51 727 367 907 106 133 768\n",
      " 234 695 534 276 818 451 222 143 428 809 294 716 174 861 454 833 491 444\n",
      " 310 969 148 303  63 634 274 671 944 793 645 467 159 519 257  37  54 524\n",
      " 611 938 216 962 304 843 213 657 123 169  26 129 704  92 743 271 936 464\n",
      " 158 205 488 737  93 933 618 916 374 836 364 627  72 555  32 202 395 631\n",
      " 568 528 708 702 532 629 283 358 588  13  91   9 906 792 544 981 900  47\n",
      " 505 200 177 320 722 312 337 435 224 935 815 378 179 982 495  34 533 848\n",
      "  20  89  90 295 232 642 398 517 125 117 866 713 306 983 545 870 859 788\n",
      " 537 184 987 664 669 480  83 928 285 518 590  79 484 386 107 985 560 802\n",
      " 812 328 101 799 975 766 311  29  43  14 302 334 838 937 673 967 478 431\n",
      "   0 597  23 249 718 461  55 128 122 638  22 719 331 236 691 316 655 847\n",
      " 512 807 586 149 305 643  81 761   3   4 731  45 863 977  46 877 694 137\n",
      " 660 824  78 323 615  17 878 549 266 779 734 387  50 578  80 132 752 527\n",
      " 231 255 425 864 514 513 764 574 144 960 869 265 770 663 252 275 314 926\n",
      " 854 755 238 405 915 603 160 840  98 539 609  53 903 438 661 542 509 465\n",
      " 686 767 388   2 215 624 187 687 894 515 183 931 499 705 852 699 700 415\n",
      " 953 723 342 596 248 429 616 939 462 830 714 949 582 837 401 267 988 678\n",
      " 749 188 832 460 298 368 646 778 773 887 356 540 510 485 945 834 108 897\n",
      " 889 504 685 923 829 166 775 357 256 370 412 127 822 163 709 442 786 650\n",
      " 240 437 637 145 845 109 614 883 758 195 440 416   7 625 862 964  11   1\n",
      " 260 105 301 662 908 204   8 715  49 434 443  15 355 172  67 972 701 930\n",
      " 113 649 617 978 593 584 104 679 481 427 732  70 124 623 365 403 209 409\n",
      " 592 479  42 905 774 189 359  84 857 121 322 426 423 598 333 413 693 901\n",
      " 948 581 463  24 816 902 886 656 963 892 511 335 654 114 798 170 706 459\n",
      " 641 501 161 250 377 354 391 341 522 941 321  85 853 966 280 742 841 712\n",
      " 640 565 636 991 577 139 826 726 970 924 490 917 348 733 286 475 162 210\n",
      " 659 550 787 821 193 363 919  18 327 119 971 389  52 891 658 759 772 325\n",
      "  66 831 754 557 681  62 115  60 147 102 951 665 317 211  97 531 199 496\n",
      " 720 672 547 296 571 735 893 580 384 612 910 929  16 503 156 164 668 300\n",
      " 698 729  75 690 400  64 457 185 851 421 432 404   6 536 820 330 447 644\n",
      " 223 206 176 961 436 445 307 229 855 880  25 943 562 947 736 626 126 473\n",
      " 414  74 422 993 287 100 867 710 390 339 882 674 942 860 898 526 535 652\n",
      " 393 207 724 146 808  10 595 606  39 980 956 608 579 610 103 666 558 309\n",
      " 483 151 561 804 613 689 946 449 290 439 208 600 258 566 750 548 790 896\n",
      " 746 990 730 308 140 530 247 138 130 371 392 932 813 468 827 920 651 203\n",
      " 441 111 805 922 142 591 986 410 677 372 269 424 408 220 379 230 782 500\n",
      " 973 587 604 456 940 630 344 696 498  44 270 543 254 858 999 521 118 992\n",
      " 846 745 383 246 576 551 757 619 221 349 225 318 554 516  58 890 842 297\n",
      " 876 375 912  71  65 589 520 492 487 885 979 835 884 402 272  19 911 556\n",
      " 243 182  36 605 607 796 217 806 264 191 406 751 541 494 332  73 552 506\n",
      " 994 602 418  96 763 881 676 277  69 486 688 150 989 976  94 633 351 458\n",
      " 417 648  56 800 346 925 899 135 765 472 446  82 278 282 635 959 856 131\n",
      " 268 394 569 760 564 324 474 789 776 482 194 360 801 738 353 273 675 667\n",
      " 175 489 957 682 523 583 683 697 739 622 352   5  59 476 747 453 259 913\n",
      " 888 299  41 313 141 186 628 653 233 814 190 559 291 828 670  40 284  38\n",
      "  57 781  30 167 721 508 288 153 647 839 997 795 965 227 572 196 538 470\n",
      " 599 873 381 289 707  76  12 563 783 844  28 934 632 239 399 245 529 525\n",
      " 242 396 914  68  61  86 753 471 703 419]\n"
     ]
    }
   ],
   "source": [
    "# Create a rank 1 ndarray that contains a random permutation of the row indices of `X_norm`\n",
    "row_indices = np.random.permutation(X_norm.shape[0])\n",
    "print(row_indices)"
   ]
  },
  {
   "cell_type": "markdown",
   "metadata": {},
   "source": [
    "Now you can create the three datasets using the `row_indices` ndarray to select the rows that will go into each dataset. Rememeber that the Training Set contains 60% of the data, the Cross Validation Set contains 20% of the data, and the Test Set contains 20% of the data. Each set requires just one line of code to create. Fill in the code below"
   ]
  },
  {
   "cell_type": "code",
   "execution_count": 107,
   "metadata": {
    "scrolled": true
   },
   "outputs": [],
   "source": [
    "# Make any necessary calculations.\n",
    "# You can save your calculations into variables to use later.\n",
    "\n",
    "# Create a Training Set\n",
    "X_train = X_norm[row_indices[:600],]\n",
    "\n",
    "# Create a Cross Validation Set\n",
    "X_crossVal = X_norm[row_indices[600:800],]\n",
    "\n",
    "# Create a Test Set\n",
    "X_test = X_norm[row_indices[800:1000],]"
   ]
  },
  {
   "cell_type": "markdown",
   "metadata": {},
   "source": [
    "If you performed the above calculations correctly, then `X_tain` should have 600 rows and 20 columns, `X_crossVal` should have 200 rows and 20 columns, and `X_test` should have 200 rows and 20 columns. You can verify this by filling the code below:"
   ]
  },
  {
   "cell_type": "code",
   "execution_count": 108,
   "metadata": {},
   "outputs": [
    {
     "name": "stdout",
     "output_type": "stream",
     "text": [
      "(600, 20)\n",
      "(200, 20)\n",
      "(200, 20)\n"
     ]
    }
   ],
   "source": [
    "# Print the shape of X_train\n",
    "print(X_train.shape)\n",
    "\n",
    "# Print the shape of X_crossVal\n",
    "print(X_crossVal.shape)\n",
    "\n",
    "# Print the shape of X_test\n",
    "print(X_test.shape)"
   ]
  },
  {
   "cell_type": "code",
   "execution_count": null,
   "metadata": {},
   "outputs": [],
   "source": []
  }
 ],
 "metadata": {
  "kernelspec": {
   "display_name": "Python 3",
   "language": "python",
   "name": "python3"
  },
  "language_info": {
   "codemirror_mode": {
    "name": "ipython",
    "version": 3
   },
   "file_extension": ".py",
   "mimetype": "text/x-python",
   "name": "python",
   "nbconvert_exporter": "python",
   "pygments_lexer": "ipython3",
   "version": "3.6.7"
  }
 },
 "nbformat": 4,
 "nbformat_minor": 2
}
